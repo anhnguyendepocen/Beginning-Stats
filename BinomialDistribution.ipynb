{
 "cells": [
  {
   "cell_type": "markdown",
   "metadata": {},
   "source": [
    "# Binomial Distribution\n",
    "\n",
    "Imagine that you are running an experiment where you are flipping a coin 100 times"
   ]
  },
  {
   "cell_type": "code",
   "execution_count": 1,
   "metadata": {},
   "outputs": [
    {
     "name": "stdout",
     "output_type": "stream",
     "text": [
      "HTHTTTHHTHTHTHTHHTTHHHHTTTHHHHTHHTHTTHHHTHHTTHHTHHHHHHTTTHHTHHHTHHTTTTHHTHHHHHHHTHHHTTTHTTTTTTTHTHHT\n",
      "Out of 100 flips, 56 were heads and 44 were tails.\n"
     ]
    }
   ],
   "source": [
    "import random\n",
    "coin_heads, coin_tails, times_flipped = 0, 0, 0\n",
    "timesflipped = 0  # <-- here's what I added.\n",
    "outcome = \"\"\n",
    "while timesflipped < 100:\n",
    "\tcoin_flips = random.randrange( 2 )\n",
    "\tif coin_flips == 0:\n",
    "\t\tcoin_heads += 1\n",
    "\t\toutcome=outcome+\"H\"\n",
    "\telse:\n",
    "\t\tcoin_tails += 1\n",
    "\t\toutcome=outcome+\"T\"\n",
    "\ttimesflipped += 1\n",
    "\t\n",
    "print(outcome)\n",
    "print(\"Out of 100 flips, \" + str(coin_heads) + \" were heads and \" + str(coin_tails) + \" were tails.\")"
   ]
  },
  {
   "cell_type": "markdown",
   "metadata": {},
   "source": [
    "* What is the probability that you would get Heads all 100 times?"
   ]
  },
  {
   "cell_type": "code",
   "execution_count": 2,
   "metadata": {},
   "outputs": [
    {
     "data": {
      "text/plain": [
       "7.888609052210118e-31"
      ]
     },
     "execution_count": 2,
     "metadata": {},
     "output_type": "execute_result"
    }
   ],
   "source": [
    "(1/2)**timesflipped"
   ]
  },
  {
   "cell_type": "markdown",
   "metadata": {},
   "source": [
    "## That's very unlikely!\n",
    "* What is the probability of getting half heads and half tails?\n",
    "\n",
    "This becomes harder: imagine we simplify this down to three flips\n",
    "* Possible outcomes: \n",
    "(HHH),(HHT), (HTH), (HTT), (THH), (THT), (TTH), (TTT)\n",
    "* The probability of getting exactly 1 heads is: 2/8=0.25"
   ]
  },
  {
   "cell_type": "markdown",
   "metadata": {},
   "source": [
    "We can think of this in a probability tree:"
   ]
  },
  {
   "cell_type": "markdown",
   "metadata": {},
   "source": [
    "![prob tree](HHTdecisiontree2.png)"
   ]
  },
  {
   "cell_type": "markdown",
   "metadata": {},
   "source": [
    "* The probability of Point E is the joint probability of getting outcome HHH\n",
    "* Points H, M, and N are the outcomes where we get only one H\n",
    "* Because each outcome from a coin flip is an independent event, we can calculate the joint probability of any outcome as the product of the probabilities: \n",
    "$$p(\\text{point } H)=p(H)p(T)p(T)=p(H)*p(T)^2 = (1/2)^3 =1/8=0.125$$\n",
    "* We can find the probability of H, M, or N happening (aka the probability of at least one H) as\n",
    "$$ p(\\text{point H, M, or N}) =  p(\\text{point } H) + p(\\text{point }  M) + p(\\text{point }  N) = 3*(p(H)*p(T)^2) = 3*(1/2)(1/2)^2 =0.375 $$"
   ]
  },
  {
   "cell_type": "markdown",
   "metadata": {},
   "source": [
    "### Combinations:\n",
    "Now, we can easily create the probability of choosing exactly one heads by using the mathematical concept of a **combination**.\n",
    "\n",
    "A combination is the number of ways that we can select $k$ things out of $N$ options, with replacement. Mathematically:\n",
    "\n",
    "$$\\binom{N}{k}=\\frac{N!}{(k!)(N-k)!}$$\n",
    "\n",
    "Where $N$ is the number of times we perform the experiment and $k$ is the number of \"successes\" (outcomes that we are looking for)\n",
    "\n",
    "* The number of ways that we can get one Heads $(k=1)$ out of 3 coin flips $(N=3)$ is:\n",
    "\n",
    "$$\\binom{3}{2}=\\frac{3!}{(2!)(3-2)!}=\\frac{3*2*1}{(2*1)(1)}=3$$"
   ]
  },
  {
   "cell_type": "code",
   "execution_count": 11,
   "metadata": {},
   "outputs": [
    {
     "data": {
      "text/plain": [
       "3.0"
      ]
     },
     "execution_count": 11,
     "metadata": {},
     "output_type": "execute_result"
    }
   ],
   "source": [
    "import scipy.special\n",
    "scipy.special.comb(3,2)\n"
   ]
  },
  {
   "cell_type": "markdown",
   "metadata": {},
   "source": [
    "## Binomial distribution\n",
    "\n",
    "A random variable is considered distributed Binomally if there are two independent outcomes (success or failure) over $N$ trials where the probabilities of success ($p$) and failure ($q$) are known and constant. \n",
    "\n",
    "The notation is \n",
    "$$ Y \\sim B(N,p)$$\n",
    "\n",
    "The probability of $k$ successes out of the $N$ independent trials is \n",
    "$$P(k,N) = \\binom{N}{k} p^kq^{(N-k)}$$\n",
    "\n",
    "$\\binom{N}{k}$ is known as the **binomial coefficient** \n",
    "\n",
    "For our three coin flips:"
   ]
  },
  {
   "cell_type": "code",
   "execution_count": 12,
   "metadata": {},
   "outputs": [
    {
     "name": "stdout",
     "output_type": "stream",
     "text": [
      "Binomial Coefficient: 3.0\n",
      "Prob(Exactly 1 Head in 3 Flips)= 0.375\n"
     ]
    }
   ],
   "source": [
    "bcoef = scipy.special.comb(3,1) # calculates the binomial coefficient\n",
    "print(\"Binomial Coefficient: \"+ str(bcoef))\n",
    "p = 0.5 #probability of success\n",
    "q = 0.5 #probability of failure\n",
    "N = 3 # Number of trials\n",
    "k = 1 # Desired number of successes\n",
    "\n",
    "print(\"Prob(Exactly 1 Head in 3 Flips)= \" + str(bcoef*p**k*q**(N-k)))"
   ]
  },
  {
   "cell_type": "markdown",
   "metadata": {},
   "source": [
    "### Let's bring it back to our first example!\n",
    "We want to find the probability of getting 50 heads out of 100 flips:"
   ]
  },
  {
   "cell_type": "code",
   "execution_count": 6,
   "metadata": {},
   "outputs": [
    {
     "name": "stdout",
     "output_type": "stream",
     "text": [
      "Binomial Coefficient: 1.0089134454556415e+29\n",
      "Prob(Exactly 50 Heads in 100 Flips)= 0.0796\n"
     ]
    }
   ],
   "source": [
    "import math\n",
    "p = 0.5\n",
    "q = 0.5\n",
    "N = 100\n",
    "k = 50\n",
    "\n",
    "bcoef = scipy.special.comb(N,k)\n",
    "print(\"Binomial Coefficient: \"+ str(bcoef))\n",
    "\n",
    "print(\"Prob(Exactly \"+ str(k) +\" Heads in \" + str(N) + \" Flips)= \" + str(round(bcoef*p**k*q**(N-k),4)))"
   ]
  },
  {
   "cell_type": "markdown",
   "metadata": {},
   "source": [
    "### Exercise: Show why calculating this using the formula would be very challenging."
   ]
  },
  {
   "cell_type": "markdown",
   "metadata": {},
   "source": [
    "## The Expected Value and Std Deviation of the Binomial Distribution"
   ]
  },
  {
   "cell_type": "markdown",
   "metadata": {},
   "source": [
    "The expected value of a variable with Binomial Distribution is:\n",
    "$$\\mu = np$$ \n",
    "and the variance/standard deviation is:\n",
    "$$\\sigma^2 =npq$$\n",
    "$$\\sigma=\\sqrt{npq}$$"
   ]
  },
  {
   "cell_type": "markdown",
   "metadata": {},
   "source": [
    "For our example:\n",
    "* $\\mu = (100)(1/2) = 50$, so you would expect to get 50 heads on average if you flip a coin 100 times\n",
    "* $\\sigma^2 = (100)(0.5)(0.5)=25$\n",
    "* $\\sigma = \\sqrt{25}=5$, so you would expect 99.7% of repeated experiments to have between $50-3*5=35$ and $50+3*5=65$ heads out of 100 flips"
   ]
  },
  {
   "cell_type": "code",
   "execution_count": 17,
   "metadata": {},
   "outputs": [
    {
     "ename": "TypeError",
     "evalue": "type numpy.ndarray doesn't define __round__ method",
     "output_type": "error",
     "traceback": [
      "\u001b[1;31m---------------------------------------------------------------------------\u001b[0m",
      "\u001b[1;31mTypeError\u001b[0m                                 Traceback (most recent call last)",
      "\u001b[1;32m<ipython-input-17-05719856de54>\u001b[0m in \u001b[0;36m<module>\u001b[1;34m()\u001b[0m\n\u001b[0;32m      5\u001b[0m \u001b[0mn\u001b[0m\u001b[1;33m,\u001b[0m \u001b[0mp\u001b[0m \u001b[1;33m=\u001b[0m \u001b[1;36m100\u001b[0m\u001b[1;33m,\u001b[0m \u001b[1;36m0.5\u001b[0m\u001b[1;33m\u001b[0m\u001b[0m\n\u001b[0;32m      6\u001b[0m \u001b[0mmean\u001b[0m\u001b[1;33m,\u001b[0m \u001b[0mvar\u001b[0m\u001b[1;33m=\u001b[0m\u001b[0mbinom\u001b[0m\u001b[1;33m.\u001b[0m\u001b[0mstats\u001b[0m\u001b[1;33m(\u001b[0m\u001b[0mn\u001b[0m\u001b[1;33m,\u001b[0m \u001b[0mp\u001b[0m\u001b[1;33m,\u001b[0m \u001b[0mmoments\u001b[0m\u001b[1;33m=\u001b[0m\u001b[1;34m'mv'\u001b[0m\u001b[1;33m)\u001b[0m\u001b[1;33m\u001b[0m\u001b[0m\n\u001b[1;32m----> 7\u001b[1;33m \u001b[0mprint\u001b[0m\u001b[1;33m(\u001b[0m\u001b[1;34m\"The mean is: \"\u001b[0m \u001b[1;33m+\u001b[0m \u001b[0mstr\u001b[0m\u001b[1;33m(\u001b[0m\u001b[0mround\u001b[0m\u001b[1;33m(\u001b[0m\u001b[0mmean\u001b[0m\u001b[1;33m,\u001b[0m\u001b[1;36m2\u001b[0m\u001b[1;33m)\u001b[0m \u001b[1;33m)\u001b[0m\u001b[1;33m)\u001b[0m\u001b[1;33m\u001b[0m\u001b[0m\n\u001b[0m\u001b[0;32m      8\u001b[0m \u001b[0mstd\u001b[0m \u001b[1;33m=\u001b[0m \u001b[0mmath\u001b[0m\u001b[1;33m.\u001b[0m\u001b[0msqrt\u001b[0m\u001b[1;33m(\u001b[0m\u001b[0mvar\u001b[0m\u001b[1;33m)\u001b[0m\u001b[1;33m\u001b[0m\u001b[0m\n\u001b[0;32m      9\u001b[0m \u001b[0mprint\u001b[0m\u001b[1;33m(\u001b[0m\u001b[1;34m\"The standard deviation is: \"\u001b[0m \u001b[1;33m+\u001b[0m \u001b[0mstr\u001b[0m\u001b[1;33m(\u001b[0m\u001b[0mround\u001b[0m\u001b[1;33m(\u001b[0m\u001b[0mstd\u001b[0m\u001b[1;33m,\u001b[0m\u001b[1;36m2\u001b[0m\u001b[1;33m)\u001b[0m\u001b[1;33m)\u001b[0m\u001b[1;33m)\u001b[0m\u001b[1;33m\u001b[0m\u001b[0m\n",
      "\u001b[1;31mTypeError\u001b[0m: type numpy.ndarray doesn't define __round__ method"
     ]
    }
   ],
   "source": [
    "from scipy.stats import binom\n",
    "import numpy as np\n",
    "import matplotlib.pyplot as plt\n",
    "\n",
    "n, p = 100, 0.5\n",
    "mean, var=binom.stats(n, p, moments='mv')\n",
    "print(\"The mean is: \" + str(mean) )\n",
    "std = math.sqrt(var)\n",
    "print(\"The standard deviation is: \" + str(std))"
   ]
  },
  {
   "cell_type": "code",
   "execution_count": 8,
   "metadata": {},
   "outputs": [
    {
     "data": {
      "image/png": "[encoded data removed]",
      "text/plain": [
       "<Figure size 432x288 with 1 Axes>"
      ]
     },
     "metadata": {
      "needs_background": "light"
     },
     "output_type": "display_data"
    }
   ],
   "source": [
    "from scipy.stats import binom\n",
    "import numpy as np\n",
    "import matplotlib.pyplot as plt\n",
    "fig, ax = plt.subplots(1, 1)\n",
    "\n",
    "n, p = 100, 0.5\n",
    "mean, var, skew, kurt = binom.stats(n, p, moments='mvsk')\n",
    "\n",
    "x = np.arange(binom.ppf(0.01, n, p),\n",
    "              binom.ppf(0.99, n, p))\n",
    "ax.plot(x, binom.pmf(x, n, p), 'bo', ms=8, label='binom pmf')\n",
    "ax.vlines(x, 0, binom.pmf(x, n, p), colors='b', lw=5, alpha=0.5)\n",
    "\n",
    "rv = binom(n, p)\n",
    "ax.vlines(x, 0, rv.pmf(x), colors='k', linestyles='-', lw=1,\n",
    "        label='frozen pmf')\n",
    "ax.legend(loc='best', frameon=False)\n",
    "\n",
    "plt.show()"
   ]
  },
  {
   "cell_type": "markdown",
   "metadata": {},
   "source": [
    "## Cumulative probabilities:"
   ]
  },
  {
   "cell_type": "code",
   "execution_count": 9,
   "metadata": {},
   "outputs": [
    {
     "name": "stdout",
     "output_type": "stream",
     "text": [
      "p(Y<=45)= 0.1841\n",
      "p(Y>45)= 0.8159\n",
      "p(45<=Y<=60)= 0.8468\n"
     ]
    }
   ],
   "source": [
    "k=45\n",
    "\n",
    "print(\"p(Y<=\" + str(k) + \")= \" + str(round(binom.cdf(k, n, p, loc=0),4)))\n",
    "print(\"p(Y>\" + str(k) + \")= \" + str(round(1-binom.cdf(k, n, p, loc=0),4)))\n",
    "\n",
    "a = 45\n",
    "b = 60\n",
    "print(\"p(\" + str(a) + \"<=Y<=\" + str(b) + \")= \" + str(round(binom.cdf(b, n, p, loc=0)-binom.cdf(a-1, n, p, loc=0),4)))\n",
    "\n"
   ]
  },
  {
   "cell_type": "markdown",
   "metadata": {},
   "source": [
    "# Exercises:\n",
    "1. Find the probability of selecting 10 females out of a pool of 100 candidates. Assume that the probability of selecting a female is 50%.\n",
    "\n",
    "2. Find $prob(Y\\leq 9)$ if $Y \\sim B(30,0.25)$\n",
    "3. Find $prob(Y>10)$ if $Y \\sim B(30,0.25)$\n",
    "4. Find $prob(7\\leq Y \\leq 10)$ if $Y \\sim B(30,0.25)$"
   ]
  },
  {
   "cell_type": "code",
   "execution_count": null,
   "metadata": {},
   "outputs": [],
   "source": []
  }
 ],
 "metadata": {
  "kernelspec": {
   "display_name": "Python 3",
   "language": "python",
   "name": "python3"
  },
  "language_info": {
   "codemirror_mode": {
    "name": "ipython",
    "version": 3
   },
   "file_extension": ".py",
   "mimetype": "text/x-python",
   "name": "python",
   "nbconvert_exporter": "python",
   "pygments_lexer": "ipython3",
   "version": "3.7.0"
  }
 },
 "nbformat": 4,
 "nbformat_minor": 2
}
