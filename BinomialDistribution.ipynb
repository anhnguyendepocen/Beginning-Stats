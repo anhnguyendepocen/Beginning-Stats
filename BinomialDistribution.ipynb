{
 "cells": [
  {
   "cell_type": "markdown",
   "metadata": {},
   "source": [
    "# Binomial Distribution\n",
    "\n",
    "Imagine that you are running an experiment where you are flipping a coin several times:"
   ]
  },
  {
   "cell_type": "code",
   "execution_count": 1,
   "metadata": {},
   "outputs": [
    {
     "name": "stdout",
     "output_type": "stream",
     "text": [
      "TTHHHTTHHT\n",
      "Out of 10 flips, 5 were heads and 5 were tails.\n"
     ]
    }
   ],
   "source": [
    "import random\n",
    "\n",
    "N = 10  # change this value to change the number of times we run the experiment\n",
    "\n",
    "coin_heads, coin_tails, times_flipped = 0, 0, 0\n",
    "timesflipped = 0  \n",
    "outcome = \"\"\n",
    "while timesflipped < N:\n",
    "\tcoin_flips = random.randrange( 2 )\n",
    "\tif coin_flips == 0:\n",
    "\t\tcoin_heads += 1\n",
    "\t\toutcome=outcome+\"H\"\n",
    "\telse:\n",
    "\t\tcoin_tails += 1\n",
    "\t\toutcome=outcome+\"T\"\n",
    "\ttimesflipped += 1\n",
    "\t\n",
    "print(outcome)\n",
    "print(\"Out of \"+ str(timesflipped)+ \" flips, \" + str(coin_heads) + \" were heads and \" + str(coin_tails) + \" were tails.\")"
   ]
  },
  {
   "cell_type": "markdown",
   "metadata": {},
   "source": [
    "* What is the probability that you would get Heads every time?"
   ]
  },
  {
   "cell_type": "code",
   "execution_count": 2,
   "metadata": {},
   "outputs": [
    {
     "data": {
      "text/plain": [
       "0.0009765625"
      ]
     },
     "execution_count": 2,
     "metadata": {},
     "output_type": "execute_result"
    }
   ],
   "source": [
    "(1/2)**timesflipped"
   ]
  },
  {
   "cell_type": "markdown",
   "metadata": {},
   "source": [
    "## That's very unlikely!\n",
    "### What is the probability of getting half heads and half tails?\n",
    "\n",
    "#### This becomes harder: imagine we simplify this down to three flips\n",
    "* Possible outcomes: \n",
    "(HHH),(HHT), (HTH), (HTT), (THH), (THT), (TTH), (TTT)\n",
    "* The probability of getting exactly 1 heads is: 2/8=0.25"
   ]
  },
  {
   "cell_type": "markdown",
   "metadata": {},
   "source": [
    "We can think of this in a probability tree:"
   ]
  },
  {
   "cell_type": "markdown",
   "metadata": {},
   "source": [
    "![prob tree](img/HHTdecisiontree2.png)"
   ]
  },
  {
   "cell_type": "markdown",
   "metadata": {},
   "source": [
    "* The probability of Point E is the joint probability of getting outcome HHH\n",
    "* Points H, M, and N are the outcomes where we get only one H\n",
    "* Because each outcome from a coin flip is an independent event, we can calculate the joint probability of any outcome as the product of the probabilities: \n",
    "$$p(\\text{point } H)=p(H)p(T)p(T)=p(H)*p(T)^2 = (1/2)^3 =1/8=0.125$$\n",
    "* We can find the probability of H, M, or N happening (aka the probability of at least one H) as\n",
    "$$ p(\\text{point H, M, or N}) =  p(\\text{point } H) + p(\\text{point }  M) + p(\\text{point }  N) = 3*(p(H)*p(T)^2) = 3*(1/2)(1/2)^2 =0.375 $$"
   ]
  },
  {
   "cell_type": "markdown",
   "metadata": {},
   "source": [
    "### Combinations:\n",
    "Now, we can easily create the probability of choosing exactly one heads by using the mathematical concept of a **combination**.\n",
    "\n",
    "A combination is the number of ways that we can select $k$ things out of $N$ options, with replacement. Mathematically:\n",
    "\n",
    "$$\\binom{N}{k}=\\frac{N!}{(k!)(N-k)!}$$\n",
    "\n",
    "Where $N$ is the number of times we perform the experiment and $k$ is the number of \"successes\" (outcomes that we are looking for)\n",
    "\n",
    "* The number of ways that we can get one Heads $(k=1)$ out of 3 coin flips $(N=3)$ is:\n",
    "\n",
    "$$\\binom{3}{2}=\\frac{3!}{(2!)(3-2)!}=\\frac{3*2*1}{(2*1)(1)}=3$$"
   ]
  },
  {
   "cell_type": "code",
   "execution_count": 3,
   "metadata": {},
   "outputs": [
    {
     "data": {
      "text/plain": [
       "3.0"
      ]
     },
     "execution_count": 3,
     "metadata": {},
     "output_type": "execute_result"
    }
   ],
   "source": [
    "import scipy.special\n",
    "\n",
    "N = 3\n",
    "k = 1\n",
    "\n",
    "scipy.special.comb(N,k)\n"
   ]
  },
  {
   "cell_type": "markdown",
   "metadata": {},
   "source": [
    "## Binomial distribution\n",
    "\n",
    "A random variable is considered distributed Binomally if there are two independent outcomes (success or failure) over $N$ trials where the probabilities of success ($p$) and failure ($q$) are known and constant. \n",
    "\n",
    "The notation is \n",
    "$$ Y \\sim B(N,p)$$\n",
    "\n",
    "The probability of $k$ successes out of the $N$ independent trials is \n",
    "$$P(k,N) = \\binom{N}{k} p^kq^{(N-k)}$$\n",
    "\n",
    "$\\binom{N}{k}$ is known as the **binomial coefficient** \n",
    "\n",
    "For our three coin flips:"
   ]
  },
  {
   "cell_type": "code",
   "execution_count": 4,
   "metadata": {},
   "outputs": [
    {
     "name": "stdout",
     "output_type": "stream",
     "text": [
      "Binomial Coefficient: 3.0\n",
      "Prob(Exactly 1 Head in 3 Flips)= 0.375\n"
     ]
    }
   ],
   "source": [
    "p = 0.5 #probability of success\n",
    "q = 0.5 #probability of failure\n",
    "N = 3 # Number of trials\n",
    "k = 1 # Desired number of successes\n",
    "bcoef = scipy.special.comb(N,k) # calculates the binomial coefficient\n",
    "\n",
    "print(\"Binomial Coefficient: \"+ str(bcoef))\n",
    "print(\"Prob(Exactly 1 Head in 3 Flips)= \" + str(bcoef*p**k*q**(N-k)))"
   ]
  },
  {
   "cell_type": "markdown",
   "metadata": {},
   "source": [
    "### Let's bring it back to our first example!\n",
    "We want to find the probability of getting 50 heads out of 100 flips:"
   ]
  },
  {
   "cell_type": "code",
   "execution_count": 5,
   "metadata": {},
   "outputs": [
    {
     "name": "stdout",
     "output_type": "stream",
     "text": [
      "Binomial Coefficient: 1.0089134454556415e+29\n",
      "Prob(Exactly 50 Heads in 100 Flips)= 0.0796\n"
     ]
    }
   ],
   "source": [
    "import math\n",
    "p = 0.5\n",
    "q = 0.5\n",
    "N = 100\n",
    "k = 50\n",
    "\n",
    "bcoef = scipy.special.comb(N,k)\n",
    "print(\"Binomial Coefficient: \"+ str(bcoef))\n",
    "print(\"Prob(Exactly \"+ str(k) +\" Heads in \" + str(N) + \" Flips)= \" + str(round(bcoef*p**k*q**(N-k),4)))"
   ]
  },
  {
   "cell_type": "markdown",
   "metadata": {},
   "source": [
    "### Exercise: Show why calculating this using the formula would be very challenging."
   ]
  },
  {
   "cell_type": "markdown",
   "metadata": {},
   "source": [
    "## The Expected Value and Std Deviation of the Binomial Distribution"
   ]
  },
  {
   "cell_type": "markdown",
   "metadata": {},
   "source": [
    "The expected value of a variable with Binomial Distribution is:\n",
    "$$\\mu = np$$ \n",
    "and the variance/standard deviation is:\n",
    "$$\\sigma^2 =npq$$\n",
    "$$\\sigma=\\sqrt{npq}$$"
   ]
  },
  {
   "cell_type": "markdown",
   "metadata": {},
   "source": [
    "For our example:\n",
    "* $\\mu = (100)(1/2) = 50$, so you would expect to get 50 heads on average if you flip a coin 100 times\n",
    "* $\\sigma^2 = (100)(0.5)(0.5)=25$\n",
    "* $\\sigma = \\sqrt{25}=5$, so you would expect 99.7% of repeated experiments to have between $50-3*5=35$ and $50+3*5=65$ heads out of 100 flips"
   ]
  },
  {
   "cell_type": "code",
   "execution_count": 6,
   "metadata": {},
   "outputs": [
    {
     "name": "stdout",
     "output_type": "stream",
     "text": [
      "The mean is: 50.0\n",
      "The standard deviation is: 5.0\n"
     ]
    }
   ],
   "source": [
    "from scipy.stats import binom\n",
    "import numpy as np\n",
    "import matplotlib.pyplot as plt\n",
    "\n",
    "n, p = 100, 0.5\n",
    "mean, var=binom.stats(n, p, moments='mv')\n",
    "print(\"The mean is: \" + str(mean) )\n",
    "std = math.sqrt(var)\n",
    "print(\"The standard deviation is: \" + str(std))"
   ]
  },
  {
   "cell_type": "code",
   "execution_count": 7,
   "metadata": {},
   "outputs": [
    {
     "data": {
      "image/png": "[encoded data removed]",
      "text/plain": [
       "<Figure size 432x288 with 1 Axes>"
      ]
     },
     "metadata": {
      "needs_background": "light"
     },
     "output_type": "display_data"
    }
   ],
   "source": [
    "from scipy.stats import binom\n",
    "import numpy as np\n",
    "import matplotlib.pyplot as plt\n",
    "fig, ax = plt.subplots(1, 1)\n",
    "\n",
    "n, p = 100, 0.5\n",
    "mean, var, skew, kurt = binom.stats(n, p, moments='mvsk')\n",
    "\n",
    "x = np.arange(binom.ppf(0.01, n, p),\n",
    "              binom.ppf(0.99, n, p))\n",
    "ax.plot(x, binom.pmf(x, n, p), 'bo', ms=8)\n",
    "ax.vlines(x, 0, binom.pmf(x, n, p), colors='b', lw=5, alpha=0.5)\n",
    "\n",
    "rv = binom(n, p)\n",
    "ax.vlines(x, 0, rv.pmf(x), colors='k', linestyles='-', lw=1)\n",
    "plt.title('Binomial Distribution: N = '+str(N) + \" and k = \" +str(k))\n",
    "plt.ylabel('Prob Density')\n",
    "plt.xlabel('Number of Heads')\n",
    "plt.show()"
   ]
  },
  {
   "cell_type": "markdown",
   "metadata": {},
   "source": [
    "## Cumulative probabilities:\n",
    "\n",
    "Occassionally, we may ask questions like:\n",
    "* What is the probability of flipping *at least* 10 heads out of 100 flips?\n",
    "Or\n",
    "* What is the probability of sampling *at most* 30 women out of a group of 400 people?\n",
    "\n",
    "To answer these things, we need the binomial **cumulative** probability:\n",
    "$$P(Y<=k) = \\sum_{i=0}^{k} P(Y=i) = \\quad P(Y=0) + P(Y=1) + \\cdots + P(Y=k) $$\n",
    "\n",
    "\n",
    "#### Example:"
   ]
  },
  {
   "cell_type": "code",
   "execution_count": 8,
   "metadata": {},
   "outputs": [
    {
     "name": "stdout",
     "output_type": "stream",
     "text": [
      "p(Y<=15)= 0.0111\n",
      "p(Y<15)= 0.0054\n",
      "p(Y>15)= 0.9889\n",
      "p(15<=Y<=30)= 0.8908\n"
     ]
    }
   ],
   "source": [
    "n = 100\n",
    "p = 0.25\n",
    "k= 15\n",
    "\n",
    "print(\"p(Y<=\" + str(k) + \")= \" + str(round(binom.cdf(k, n, p, loc=0),4)))    # Uses the binom.cdf function which calculates P(Y<=k)\n",
    "print(\"p(Y<\" + str(k) + \")= \" + str(round(binom.cdf(k-1, n, p, loc=0),4)))   # P(Y<k) = P(Y<=k-1)\n",
    "print(\"p(Y>\" + str(k) + \")= \" + str(round(1-binom.cdf(k, n, p, loc=0),4)))   # P(Y>k) = 1-P(Y<=k)\n",
    "\n",
    "a = 15\n",
    "b = 30\n",
    "print(\"p(\" + str(a) + \"<=Y<=\" + str(b) + \")= \" + str(round(binom.cdf(b, n, p, loc=0)-binom.cdf(a-1, n, p, loc=0),4)))\n",
    "# P(a<=Y<=b)= P(Y<=b)-P(Y<a)\n"
   ]
  },
  {
   "cell_type": "markdown",
   "metadata": {},
   "source": [
    "# Using probability tables: \n",
    "\n",
    "You can utilize the binomial table to find the binomial probabilities:\n",
    "\n",
    "[Binomial Table](binomial_table.pdf)\n",
    "\n",
    "### Example: Find the P(Y=5) if $Y \\sim B(10,0.25)$:\n",
    "1. Go to $n=10$ on the rows and then $x=5$\n",
    "2. Go to $p=0.25$ on the columns \n",
    "3. The probability listed there is $0.058$ so there is a 5.8% chance of getting 5 successes out of 10 trials when the probability of a success is 0.25. "
   ]
  },
  {
   "cell_type": "markdown",
   "metadata": {},
   "source": [
    "# Exercises:\n",
    "1. Find the probability of selecting 10 females out of a pool of 100 candidates. Assume that the probability of selecting a female is 50%.\n",
    "\n",
    "\n",
    "2. Assume $Y \\sim B(15,0.95)$\n",
    "\n",
    "    a. Find $prob(Y=14)$ \n",
    "    \n",
    "    b. Find $prob(Y<=14)$\n",
    "    \n",
    "    c. Find $prob(Y<12)$  \n",
    "    \n",
    "    d. Find $prob(12 \\leq Y \\leq 14)$ "
   ]
  }
 ],
 "metadata": {
  "kernelspec": {
   "display_name": "Python 3",
   "language": "python",
   "name": "python3"
  },
  "language_info": {
   "codemirror_mode": {
    "name": "ipython",
    "version": 3
   },
   "file_extension": ".py",
   "mimetype": "text/x-python",
   "name": "python",
   "nbconvert_exporter": "python",
   "pygments_lexer": "ipython3",
   "version": "3.7.1"
  }
 },
 "nbformat": 4,
 "nbformat_minor": 2
}
