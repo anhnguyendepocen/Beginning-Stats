{
 "cells": [
  {
   "cell_type": "markdown",
   "metadata": {},
   "source": [
    "# Exam 2 Practice Questions Solutions\n",
    "\n",
    "## Set 1: Probability \n",
    "\n",
    "You are rolling 2 dice and adding up the values. \n",
    "\n",
    "1. Outcomes = **See Below**\n",
    "2. If you roll these two dice an infinite number of times, what fraction of time would you roll a sum of 6? A sum of 9? A sum of 13?\n",
    "$$P(6) = 5/36$$\n",
    "$$P(9) = 4/36 = 1/9$$\n",
    "$$P(13) = 0$$\n",
    "\n",
    "3. Are the events of rolling a sum of 3 and a sum of 9 disjoint? How about a sum of three and an odd?\n",
    "**Yes. No, rolling a sum of 3 implies rolling an odd number. So the probability of a sum of three and an odd is equal to 2/36=1/18.**\n",
    "4. Find the probability of rolling a sum of 10 or an even number. \n",
    "$$P(10\\text{ or even}) = p(10)+p(even)-p(10\\text{ and even})= 3/36+ 18/36-3/36=1/2$$\n",
    "5. Illustrate the probability distribution in a graph. **See Below**\n",
    "6. Are the events of rolling a 9 and rolling a multiple of 3 independent? **If they are independent, then** $$ p(9\\text{ and multiple of 3}) = p(9)p(\\text{multiple of three})$$\n",
    "$$ p(9\\text{ and multiple of 3}) = 4/36=1/9$$\n",
    "$$ p(9)p(\\text{multiple of three})= (1/9)(12/36)=1/27$$\n",
    "**Thus they are not independent.**\n",
    "\n",
    "\n"
   ]
  },
  {
   "cell_type": "code",
   "execution_count": 4,
   "metadata": {},
   "outputs": [
    {
     "name": "stdout",
     "output_type": "stream",
     "text": [
      "Outcomes:\n",
      "[[ 2  3  4  5  6  7]\n",
      " [ 3  4  5  6  7  8]\n",
      " [ 4  5  6  7  8  9]\n",
      " [ 5  6  7  8  9 10]\n",
      " [ 6  7  8  9 10 11]\n",
      " [ 7  8  9 10 11 12]]\n"
     ]
    },
    {
     "data": {
      "image/png": "[encoded data removed]",
      "text/plain": [
       "<Figure size 432x288 with 1 Axes>"
      ]
     },
     "metadata": {
      "needs_background": "light"
     },
     "output_type": "display_data"
    }
   ],
   "source": [
    "import numpy as np\n",
    "import matplotlib.pyplot as plt\n",
    "import itertools\n",
    "import pandas as pd\n",
    "\n",
    "X1 = np.random.uniform(1,6,10000000)\n",
    "X2 = np.random.uniform(1,6,10000000)\n",
    "Y = X1+X2\n",
    "\n",
    "a=(1,2,3,4,5,6)\n",
    "b=(1,2,3,4,5,6)\n",
    "\n",
    "A = np.array(a)\n",
    "B = np.array(b)\n",
    "M1 = np.column_stack([A,A,A,A,A,A])\n",
    "M2 = np.row_stack([B,B,B,B,B,B])\n",
    "print(\"Outcomes:\")\n",
    "print(M1+M2)\n",
    "\n",
    "plt.hist(Y,density=True)\n",
    "plt.xlabel(\"Sum of Die\")\n",
    "plt.ylabel(\"Probability\")\n",
    "plt.xticks(np.arange(1, 13, step=1.0))\n",
    "\n",
    "plt.show()"
   ]
  },
  {
   "cell_type": "markdown",
   "metadata": {},
   "source": [
    "## Set 2: Probability\n",
    "\n",
    "You are a teacher looking at test results. You find that 10% of students answered Question 10 right. Of the students that answered Question 10 right, 75% passed. Of the students that didn’t answer the question right, 65% passed. \n",
    "\n",
    "1. Illustrate the tree diagram for this problem. **see below**\n",
    "\n",
    "2. Find the marginal probability of answering Question 10 right. \n",
    "**p(10 right)=0.10**\n",
    "\t\n",
    "3. Find the conditional probability of passing the test given that you answer Question 10 right.\n",
    "**p(pass|10 right) = 0.75**\n",
    "\n",
    "4. Find the conditional probability of not passing the test given that you did not answer Question 10 right. \n",
    "**p(no pass|10 wrong) = 0.35**\n",
    "\n",
    "5. Find the joint probability of answering Question 10 right and not passing. \n",
    "**p(10 right and not pass) = 0.025**\n",
    "\n",
    "6. Find the joint probability of not answering Question 10 right and passing. \n",
    "**p(10 right and pass) = 0.075**\n",
    "\n",
    "7. Find the conditional probability of answering Question 10 right given that you passed. \n",
    "**p(10 right|pass) =** $$\\frac{0.075}{0.075+0.585} =0.1136$$\n",
    "\n",
    "8. Find the conditional probability of not answering Question 10 right given that you did not pass. \n",
    "**p(10 wrong|not pass) =** $$\\frac{0.315}{0.315+0.025} =0.9265$$\n"
   ]
  },
  {
   "cell_type": "code",
   "execution_count": 2,
   "metadata": {},
   "outputs": [
    {
     "data": {
      "image/png": "[encoded data removed]",
      "text/plain": [
       "<Figure size 432x288 with 1 Axes>"
      ]
     },
     "metadata": {
      "needs_background": "light"
     },
     "output_type": "display_data"
    }
   ],
   "source": [
    "\n",
    "x1 = (0,10)\n",
    "y1 = (0,10)\n",
    "x2 = (5,10)\n",
    "y2 = (5,5)\n",
    "\n",
    "x3 = (0,10)\n",
    "y3 = (0,-10)\n",
    "x4 = (5,10)\n",
    "y4 = (-5,-5)\n",
    "\n",
    "fig, ax = plt.subplots()\n",
    "plt.plot(x1,y1,'k-' )\n",
    "plt.plot(x2,y2,'k-' )\n",
    "plt.plot(x3,y3,'k-' )\n",
    "plt.plot(x4,y4,'k-' )\n",
    "plt.text(2.5,5,s=\"10 right\")\n",
    "plt.text(2.5,4,s=\"(0.10)\")\n",
    "plt.text(2.5,-5,s=\"10 wrong\")\n",
    "plt.text(2.5,-6,s=\"(0.90)\")\n",
    "plt.text(7.5,10,s=\"pass\")\n",
    "plt.text(7.5,9,s=\"(0.75)\")\n",
    "plt.text(7.5,4,s=\"not pass\")\n",
    "plt.text(7.5,3,s=\"(0.25)\")\n",
    "plt.text(7.5,-3,s=\"pass\")\n",
    "plt.text(7.5,-4,s=\"(0.65)\")\n",
    "plt.text(7.5,-10,s=\"not pass\")\n",
    "plt.text(7.5,-11,s=\"(0.35)\")\n",
    "plt.text(10,10,s=\".75*.10=0.075\")\n",
    "plt.text(10,5,s=\".25*.10=0.025\")\n",
    "plt.text(10,-5,s=\".65*.90=0.585\")\n",
    "plt.text(10,-10,s=\".35*.90=0.315\")\n",
    "plt.axis('off')\n",
    "plt.show()"
   ]
  },
  {
   "cell_type": "markdown",
   "metadata": {},
   "source": [
    "## Set 3: Binomial Distribution \n",
    "\n",
    "Annie is conducting an experiment which examines the rate of premature babies born. The probability that a baby is born prematurely (born before 37 weeks gestation) is 7%. \n",
    "\n",
    "1. If she sends out a survey randomly to 10 families, what is the probability that exactly 5 will come back indicating a premature birth?\n",
    "\n",
    "2.  If she sends out a survey randomly to 10 families, what is the probability that more than one will come back indicating a premature birth?\n",
    "\n",
    "3.  If she sends out a survey randomly to 10 families, what is the probability that fewer than 3 will come back indicating a premature birth?\n",
    "\n",
    "4. Illustrate the probability distribution for this random variable. \n",
    "\n"
   ]
  },
  {
   "cell_type": "code",
   "execution_count": 5,
   "metadata": {},
   "outputs": [
    {
     "name": "stdout",
     "output_type": "stream",
     "text": [
      "1. Prob(Exactly 5 premature child(ren) in a sample of 10 children)= 0.0002946493474551925\n",
      "2. Prob(More than 1 premature child(ren) in a sample of 10 children)= 0.9997053506525448\n",
      "3. Prob(Less than 3 premature child(ren) in a sample of 10 children)= 0.9716578543023751\n"
     ]
    },
    {
     "data": {
      "image/png": "[encoded data removed]",
      "text/plain": [
       "<Figure size 432x288 with 1 Axes>"
      ]
     },
     "metadata": {
      "needs_background": "light"
     },
     "output_type": "display_data"
    }
   ],
   "source": [
    "import scipy.special\n",
    "p = 0.07 #probability of success\n",
    "q = 1-p #probability of failure\n",
    "N = 10 # Number of trials\n",
    "k = 5 # Desired number of successes\n",
    "bcoef = scipy.special.comb(N,k) # calculates the binomial coefficient\n",
    "prob=bcoef*p**k*q**(N-k)\n",
    "print(\"1. Prob(Exactly \"+ str(k) +\" premature child(ren) in a sample of \" + str(N) + \" children)= \" + str(prob))\n",
    "\n",
    "k=1\n",
    "print(\"2. Prob(More than \"+ str(k) +\" premature child(ren) in a sample of \" + str(N) + \" children)= \" + str(1-prob))\n",
    "\n",
    "k0 = 0\n",
    "k1 = 1\n",
    "k2 = 2 \n",
    "k3 = 3\n",
    "bcoef0 = scipy.special.comb(N,k0) # calculates the binomial coefficient\n",
    "prob0=bcoef0*p**k0*q**(N-k0)\n",
    "bcoef1 = scipy.special.comb(N,k1) # calculates the binomial coefficient\n",
    "prob1=bcoef1*p**k1*q**(N-k1)\n",
    "bcoef2 = scipy.special.comb(N,k2) # calculates the binomial coefficient\n",
    "prob2=bcoef2*p**k2*q**(N-k2)\n",
    "bcoef3 = scipy.special.comb(N,k3) # calculates the binomial coefficient\n",
    "prob3=bcoef3*p**k3*q**(N-k3)\n",
    "\n",
    "print(\"3. Prob(Less than \"+ str(k3) +\" premature child(ren) in a sample of \" + str(N) + \" children)= \" + str(prob0+prob1+prob2))\n",
    "\n",
    "from scipy.stats import binom\n",
    "\n",
    "\n",
    "fig, ax = plt.subplots(1, 1)\n",
    "\n",
    "n, p = 10, 0.07\n",
    "mean, var, skew, kurt = binom.stats(n, p, moments='mvsk')\n",
    "\n",
    "x = np.arange(binom.ppf(0.01, n, p),\n",
    "              binom.ppf(0.99, n, p))\n",
    "ax.plot(x, binom.pmf(x, n, p), 'bo', ms=8)\n",
    "ax.vlines(x, 0, binom.pmf(x, n, p), colors='b', lw=5, alpha=0.5)\n",
    "\n",
    "rv = binom(n, p)\n",
    "ax.vlines(x, 0, rv.pmf(x), colors='k', linestyles='-', lw=1)\n",
    "plt.title('Binomial Distribution: N = '+str(N) + \" and k = \" +str(k))\n",
    "plt.ylabel('Prob Density')\n",
    "plt.xlabel('k')\n",
    "plt.show()\n"
   ]
  },
  {
   "cell_type": "markdown",
   "metadata": {},
   "source": [
    "\n",
    "## Set 4: Normal Distribution + Confidence Intervals\n",
    "\n",
    "Samantha is conducting a survey of 300 college atheletes to estimate the average height of female basketball players. Assume height of female basketball players is a normally distributed random variable with mean $\\mu$ and standard deviation $\\sigma$. \n",
    "\n",
    "1. Suppose the population mean is $\\mu=$ 72 inches(in) with a standard deviation of $\\sigma= $ 6 in. Find the probability of selecting a player under 60 in using the 65-95-99.7 rule. \n",
    "**60 is two standard deviations below the mean. Thus P(X<60) = 0.025**\n",
    "\n",
    "2. Suppose the population mean is $\\mu=$ 72 inches(in) with a standard deviation of $\\sigma= $ 6 in. Find the probability of selecting a player over 80 in. \n",
    "**P(X>80)=P(Z>(80-72)/6=1.33) = p(Z<-1.33)=0.0918**\n",
    "\n",
    "3. Suppose the population mean is $\\mu=$ 72 inches(in) with a standard deviation of $\\sigma= $ 6 in. Find the probability of selecting a player  between 65 and 75 in tall. \n",
    "**p(65<X<75) = P(-1.17<Z<0.05) = P(Z<0.05)-P(Z<-1.17) = 0.6915-.1210=0.5705**\n",
    "\n",
    "4. Samantha's survey comes back and and she measures the point estimate for height to be 78.231. If the standard deviation of height is 6 in, what is the standard error for the point estimate?\n",
    "$$SE = \\frac{6}{\\sqrt{30}} = 0.3464$$\n",
    "\n",
    "5. Samantha's survey comes back and and she measures the point estimate for height to be 78.231. If the standard deviation of height is 6 in, create a 90% confidence interval for the population mean height. Can she reject the null hypothesis that the population mean is 72 in with 90% confidence?\n",
    "$$\\left[78.231-1.65*0.3464,78.231+1.65*0.3464\\right] = \\left[77.6594,78.8026\\right]$$\n",
    "**YES**\n",
    "6. Samantha's survey comes back and and she measures the point estimate for height to be 78.231. If the standard deviation of height is 6 in, create a 95% confidence interval for the population mean height. Can she reject the null hypothesis that the population mean is 72 in with 95% confidence?\n",
    "$$\\left[78.231-1.96*0.3464,78.231+1.96*0.3464\\right] = \\left[77.5521,78.9099\\right]$$\n",
    "**YES**\n",
    "7. Samantha's survey comes back and and she measures the point estimate for height to be 78.231. If the standard deviation of height is 6 in, create a 99% confidence interval for the population mean height. Can she reject the null hypothesis that the population mean is 72 in with 99% confidence?\n",
    "$$\\left[78.231-2.57*0.3464,78.231+2.57*0.3464\\right] = \\left[77.3408,78.1212\\right]$$\n",
    "**YES**"
   ]
  }
 ],
 "metadata": {
  "kernelspec": {
   "display_name": "Python 3",
   "language": "python",
   "name": "python3"
  },
  "language_info": {
   "codemirror_mode": {
    "name": "ipython",
    "version": 3
   },
   "file_extension": ".py",
   "mimetype": "text/x-python",
   "name": "python",
   "nbconvert_exporter": "python",
   "pygments_lexer": "ipython3",
   "version": "3.7.0"
  }
 },
 "nbformat": 4,
 "nbformat_minor": 2
}
