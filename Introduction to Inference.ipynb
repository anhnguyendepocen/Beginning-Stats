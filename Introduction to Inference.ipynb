{
 "cells": [
  {
   "cell_type": "markdown",
   "metadata": {},
   "source": [
    "# Introduction to Inference\n",
    "\n",
    "**Inference** in statistics is the empirical ability to provide solutions to questions using data. \n",
    "\n",
    "* Question: Do women get into more car accidents than men?\n",
    "* Question: Are male cats more likely to survive until adulthood?\n",
    "* Question: Are blue cars more popular than red cars?\n",
    "\n",
    "Regardless of the question you might have, we can break it up into two possible hypotheses:\n",
    "\n",
    "$$H_0: \\text{ Null hypothesis that is the outcome that we assume is true} $$\n",
    "$$H_A: \\text{ Alternative hypothesis that is the outcome that we can test} $$\n",
    "\n",
    "For example, Imagine that Betsy is testing whether women are safer drivers than men. Her null hypothesis is going to be:\n",
    "$$H_0: \\text{ Women are just as safe as men when they drive} $$\n",
    "and the alternative is\n",
    "$$H_A: \\text{ Women are more likely to get into car accidents than men} $$\n",
    "\n",
    "## We can never prove the null hypothesis, only fail to reject it.\n",
    "Statistically, we will never be able to prove that women are the same at driving as men. However, we can look at the data and two possible outcome happen:\n",
    "* There is insufficient evidence that women are worse at driving than men $\\implies$ Fail to reject $H_0$\n",
    "* There is sufficient evidence that women are worse drivers than men $\\implies$ Reject $H_0$ in favor of $H_A$\n",
    "\n",
    "## Some data:"
   ]
  },
  {
   "cell_type": "code",
   "execution_count": 1,
   "metadata": {},
   "outputs": [],
   "source": [
    "import numpy as np\n",
    "import pandas as pd\n",
    "import matplotlib.pyplot as plt\n",
    "\n",
    "ages = pd.read_csv('os3_data/os3_data/Ch4/age_at_mar.csv')\n",
    "\n"
   ]
  },
  {
   "cell_type": "code",
   "execution_count": null,
   "metadata": {},
   "outputs": [],
   "source": [
    "n, bins, patches = plt.hist(x=ages, bins='auto',alpha=0.7, rwidth=0.85)\n",
    "plt.grid(axis='y', alpha=0.75)\n",
    "plt.xlabel('Value')\n",
    "plt.ylabel('Frequency')\n",
    "plt.title('Histogram of Age at First Marriage')\n",
    "#maxfreq = n.max()\n",
    "# Set a clean upper y-axis limit.\n",
    "#plt.ylim(ymax=np.ceil(maxfreq / 10) * 10 if maxfreq % 10 else maxfreq + 10)\n"
   ]
  },
  {
   "cell_type": "code",
   "execution_count": null,
   "metadata": {},
   "outputs": [],
   "source": []
  }
 ],
 "metadata": {
  "kernelspec": {
   "display_name": "Python 3",
   "language": "python",
   "name": "python3"
  },
  "language_info": {
   "codemirror_mode": {
    "name": "ipython",
    "version": 3
   },
   "file_extension": ".py",
   "mimetype": "text/x-python",
   "name": "python",
   "nbconvert_exporter": "python",
   "pygments_lexer": "ipython3",
   "version": "3.7.0"
  }
 },
 "nbformat": 4,
 "nbformat_minor": 2
}
